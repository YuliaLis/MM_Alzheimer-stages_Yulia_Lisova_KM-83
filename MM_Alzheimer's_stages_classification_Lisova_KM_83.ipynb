{
  "nbformat": 4,
  "nbformat_minor": 0,
  "metadata": {
    "colab": {
      "name": "MM_Alzheimer's stages classification_Lisova_KM-83.ipynb",
      "provenance": [],
      "collapsed_sections": []
    },
    "kernelspec": {
      "name": "python3",
      "display_name": "Python 3"
    },
    "language_info": {
      "name": "python"
    },
    "accelerator": "GPU"
  },
  "cells": [
    {
      "cell_type": "markdown",
      "source": [
        "**Визначення стадії хвороби Альцгеймера на основі знімків МРТ**"
      ],
      "metadata": {
        "id": "74Ewk8s5CeKn"
      }
    },
    {
      "cell_type": "markdown",
      "source": [
        "Хвороба Альцгеймера - це нейродегенеративне захворювання, яке повільно прогресує та поступово руйнує клітини мозку. Ця хвороба є найпоширенішою формою деменції, на яку припадає 60-65% випадків з усіх видів деменції. Це захворювання впливає на пам'ять і когнітивні навички людини, що призводить до затьмарення свідомості, змін настрою й дезорієнтації в просторі та часі. "
      ],
      "metadata": {
        "id": "OLpegWp4C6xO"
      }
    },
    {
      "cell_type": "markdown",
      "source": [
        "Дані для виконання завдання взято із платформи Kaggle.\\\n",
        "Посилання на датасет - https://www.kaggle.com/tourist55/alzheimers-dataset-4-class-of-images"
      ],
      "metadata": {
        "id": "CR22-0pun1mP"
      }
    },
    {
      "cell_type": "markdown",
      "source": [
        "Підключимось до Kaggle через Google Colab."
      ],
      "metadata": {
        "id": "piSbLncQn9Zf"
      }
    },
    {
      "cell_type": "code",
      "source": [
        "!pip install -q kaggle"
      ],
      "metadata": {
        "id": "cFHhSj3e15GL"
      },
      "execution_count": 1,
      "outputs": []
    },
    {
      "cell_type": "code",
      "source": [
        "from google.colab import files"
      ],
      "metadata": {
        "id": "lY2i9ZOjPaSM"
      },
      "execution_count": 2,
      "outputs": []
    },
    {
      "cell_type": "code",
      "source": [
        "uploaded = files.upload()"
      ],
      "metadata": {
        "colab": {
          "resources": {
            "http://localhost:8080/nbextensions/google.colab/files.js": {
              "data": "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",
              "ok": true,
              "headers": [
                [
                  "content-type",
                  "application/javascript"
                ]
              ],
              "status": 200,
              "status_text": ""
            }
          },
          "base_uri": "https://localhost:8080/",
          "height": 74
        },
        "id": "dAiifacF2Dwm",
        "outputId": "848f2ae5-6a75-4b5e-d10e-c1d4f89afc55"
      },
      "execution_count": 3,
      "outputs": [
        {
          "output_type": "display_data",
          "data": {
            "text/html": [
              "\n",
              "     <input type=\"file\" id=\"files-b5855eef-4055-4be4-bd42-8857ec64de30\" name=\"files[]\" multiple disabled\n",
              "        style=\"border:none\" />\n",
              "     <output id=\"result-b5855eef-4055-4be4-bd42-8857ec64de30\">\n",
              "      Upload widget is only available when the cell has been executed in the\n",
              "      current browser session. Please rerun this cell to enable.\n",
              "      </output>\n",
              "      <script src=\"/nbextensions/google.colab/files.js\"></script> "
            ],
            "text/plain": [
              "<IPython.core.display.HTML object>"
            ]
          },
          "metadata": {}
        },
        {
          "output_type": "stream",
          "name": "stdout",
          "text": [
            "Saving kaggle.json to kaggle.json\n"
          ]
        }
      ]
    },
    {
      "cell_type": "code",
      "source": [
        "! mkdir ~/.kaggle"
      ],
      "metadata": {
        "id": "bb2-mmfZ3U-9"
      },
      "execution_count": 4,
      "outputs": []
    },
    {
      "cell_type": "code",
      "source": [
        "! cp kaggle.json ~/.kaggle/"
      ],
      "metadata": {
        "id": "Qq7L7Ax73Zxp"
      },
      "execution_count": 5,
      "outputs": []
    },
    {
      "cell_type": "code",
      "source": [
        "! chmod 600 ~/.kaggle/kaggle.json"
      ],
      "metadata": {
        "id": "jXQCShw_3grO"
      },
      "execution_count": 6,
      "outputs": []
    },
    {
      "cell_type": "markdown",
      "source": [
        "Завантажимо потрібний датасет із Kaggle."
      ],
      "metadata": {
        "id": "54d2p0adoLRR"
      }
    },
    {
      "cell_type": "code",
      "source": [
        "! kaggle datasets download -d tourist55/alzheimers-dataset-4-class-of-images"
      ],
      "metadata": {
        "colab": {
          "base_uri": "https://localhost:8080/"
        },
        "id": "CYp9VrMA2qXT",
        "outputId": "5f918b8a-4fbb-4107-9b43-0d9c25ed186b"
      },
      "execution_count": 7,
      "outputs": [
        {
          "output_type": "stream",
          "name": "stdout",
          "text": [
            "Downloading alzheimers-dataset-4-class-of-images.zip to /content\n",
            " 79% 27.0M/34.1M [00:00<00:00, 103MB/s] \n",
            "100% 34.1M/34.1M [00:00<00:00, 135MB/s]\n"
          ]
        }
      ]
    },
    {
      "cell_type": "markdown",
      "source": [
        "Розпакуємо архів із даними."
      ],
      "metadata": {
        "id": "HSsOSx3hoPeH"
      }
    },
    {
      "cell_type": "code",
      "source": [
        "!echo \"no\"| unzip alzheimers-dataset-4-class-of-images.zip -d ./"
      ],
      "metadata": {
        "id": "qW1vZQEl4_EK"
      },
      "execution_count": null,
      "outputs": []
    },
    {
      "cell_type": "markdown",
      "source": [
        "Імпортуємо бібліотеки."
      ],
      "metadata": {
        "id": "hfAj-zuGDC84"
      }
    },
    {
      "cell_type": "code",
      "source": [
        "!pip install -U tensorflow-addons"
      ],
      "metadata": {
        "id": "VsPn-SOAnyyj"
      },
      "execution_count": null,
      "outputs": []
    },
    {
      "cell_type": "code",
      "source": [
        "import numpy as np\n",
        "import matplotlib.pyplot as plt\n",
        "import tensorflow as tf\n",
        "from tensorflow import keras\n",
        "import seaborn\n",
        "import os\n",
        "from distutils.dir_util import copy_tree, remove_tree\n",
        "from random import randint\n",
        "from imblearn.over_sampling import SMOTE\n",
        "from sklearn.model_selection import train_test_split\n",
        "import tensorflow_addons as tfa\n",
        "from sklearn.metrics import confusion_matrix\n",
        "from tensorflow.keras import Sequential, Input\n",
        "from tensorflow.keras.layers import Dense, Dropout\n",
        "from tensorflow.keras.layers import Conv2D, Flatten\n",
        "from tensorflow.keras.layers import BatchNormalization, MaxPool2D\n",
        "from tensorflow.keras.preprocessing.image import ImageDataGenerator as IDG"
      ],
      "metadata": {
        "id": "5oqKrEdeDAUA"
      },
      "execution_count": 10,
      "outputs": []
    },
    {
      "cell_type": "markdown",
      "source": [
        "Дані розміщені в папці Alzheimer's Dataset."
      ],
      "metadata": {
        "id": "iMEklKj_DYXz"
      }
    },
    {
      "cell_type": "markdown",
      "source": [
        "В ній є 2 папки train та test, кожна з яких містить по 4 папки із зображеннями.\\\n",
        "NonDemented представляє собою знімки МРТ, які мають ознаки доклінічної стадії хвороби.\\\n",
        "VeryMildDemented містить знімки, що мають ознаки ранньої стадії хвороби Альцгеймера.\\\n",
        "MildDemented вказує на наявність симптомів помірної стадії хвороби.\\\n",
        "ModerateDemented визначає знімки, на яких присутні ознаки важкої стадії хвороби."
      ],
      "metadata": {
        "id": "vQ8tJuaLDbEa"
      }
    },
    {
      "cell_type": "markdown",
      "source": [
        "Об'єднаємо дані із папок train та test і запишемо їх у папку dataset."
      ],
      "metadata": {
        "id": "sxcKJTkFoXxE"
      }
    },
    {
      "cell_type": "code",
      "source": [
        "if os.path.exists(\"./dataset/\"):\n",
        "    remove_tree(\"./dataset/\")\n",
        "    \n",
        "\n",
        "os.mkdir(\"./dataset/\")\n",
        "copy_tree('./Alzheimer_s Dataset/train', \"./dataset/\")\n",
        "copy_tree('./Alzheimer_s Dataset/test', \"./dataset/\")"
      ],
      "metadata": {
        "id": "UKlGjcXdHhqE"
      },
      "execution_count": null,
      "outputs": []
    },
    {
      "cell_type": "markdown",
      "source": [
        "Розмір зображень в датасеті дорівнює 100x100."
      ],
      "metadata": {
        "id": "3Upl63BXU7Fe"
      }
    },
    {
      "cell_type": "code",
      "source": [
        "IMG_SIZE = 100\n",
        "IMAGE_SIZE = [IMG_SIZE, IMG_SIZE]"
      ],
      "metadata": {
        "id": "O9hOVeiRDe00"
      },
      "execution_count": 12,
      "outputs": []
    },
    {
      "cell_type": "code",
      "source": [
        "work_dr = IDG(rescale = 1./255, brightness_range=[0.8, 1.2], zoom_range=[.99, 1.01], data_format=\"channels_last\", fill_mode=\"constant\", horizontal_flip=True)\n",
        "\n",
        "train_data_gen = work_dr.flow_from_directory(directory='./dataset/', target_size=(IMG_SIZE, IMG_SIZE), batch_size=6500, shuffle=True)"
      ],
      "metadata": {
        "colab": {
          "base_uri": "https://localhost:8080/"
        },
        "id": "Xr9APDsIDh4Q",
        "outputId": "0839e816-bd72-4241-b4fe-81ff3075a407"
      },
      "execution_count": 19,
      "outputs": [
        {
          "output_type": "stream",
          "name": "stdout",
          "text": [
            "Found 6400 images belonging to 4 classes.\n"
          ]
        }
      ]
    },
    {
      "cell_type": "code",
      "source": [
        "train_data, train_labels = train_data_gen.next()"
      ],
      "metadata": {
        "id": "RwECO8L2Dk0o"
      },
      "execution_count": 20,
      "outputs": []
    },
    {
      "cell_type": "markdown",
      "source": [
        "Розбиття набору даних на тренувальний та тестовий у співвідношенні 9:1."
      ],
      "metadata": {
        "id": "_Vu0gzOJDoi7"
      }
    },
    {
      "cell_type": "code",
      "source": [
        "train_data, test_data, train_labels, test_labels = train_test_split(train_data, train_labels, test_size = 0.1, random_state=42)"
      ],
      "metadata": {
        "id": "X0VMGJzMDrde"
      },
      "execution_count": 21,
      "outputs": []
    },
    {
      "cell_type": "markdown",
      "source": [
        "Всього представлено:\n",
        "*   3200 знімків МРТ, де виявлено ознаки доклінічної стадії хвороби Альцгеймера (NonDemented);\n",
        "*   2240 знімків МРТ, на яких присутні ознаки ранньої стадії хвороби (VeryMildDemented);\n",
        "*   896 знімків МРТ, де є ознаки помірної стадії хвороби Альцгеймера (MildDemented);\n",
        "*   64 знімки МРТ, на яких є ознаки важкої стадії хвороби Альцгеймера (ModerateDemented).\n",
        "\n",
        "\n"
      ],
      "metadata": {
        "id": "UfrCBwg_Duhr"
      }
    },
    {
      "cell_type": "markdown",
      "source": [
        "Тому для того, щоб алгоритм не ігнорував клас меншості, використаємо техніку oversampling. Випадковим чином будемо обирати знімки із класу меншості із доповненням навчальних даних декількома копіями цього екземпляра. Для цього використаємо модуль SMOTE із бібліотеки imblearn. "
      ],
      "metadata": {
        "id": "SX_P7guLDyU2"
      }
    },
    {
      "cell_type": "markdown",
      "source": [
        "Для тренувального набору даних:"
      ],
      "metadata": {
        "id": "Mb2LEzirD1mx"
      }
    },
    {
      "cell_type": "code",
      "source": [
        "sm = SMOTE(random_state=42)\n",
        "\n",
        "train_data, train_labels = sm.fit_resample(train_data.reshape(-1, IMG_SIZE * IMG_SIZE * 3), train_labels)\n",
        "\n",
        "train_data = train_data.reshape(-1, IMG_SIZE, IMG_SIZE, 3)"
      ],
      "metadata": {
        "id": "PaP-pEx6D3Wn"
      },
      "execution_count": 22,
      "outputs": []
    },
    {
      "cell_type": "code",
      "source": [
        "print(\"Кількість тренувальних прикладів дорівнює\", train_labels.shape[0])"
      ],
      "metadata": {
        "colab": {
          "base_uri": "https://localhost:8080/"
        },
        "id": "GBuvv_UYnCgZ",
        "outputId": "e19284d9-e690-4324-bb46-5704a55d405c"
      },
      "execution_count": 23,
      "outputs": [
        {
          "output_type": "stream",
          "name": "stdout",
          "text": [
            "Кількість тренувальних прикладів дорівнює 11524\n"
          ]
        }
      ]
    },
    {
      "cell_type": "markdown",
      "source": [
        "Для тестового набору даних:"
      ],
      "metadata": {
        "id": "LJYEsXirD9_W"
      }
    },
    {
      "cell_type": "code",
      "source": [
        "test_data, test_labels = sm.fit_resample(test_data.reshape(-1, IMG_SIZE * IMG_SIZE * 3), test_labels)\n",
        "\n",
        "test_data = test_data.reshape(-1, IMG_SIZE, IMG_SIZE, 3)"
      ],
      "metadata": {
        "id": "DqAuMkFUEBiF"
      },
      "execution_count": 24,
      "outputs": []
    },
    {
      "cell_type": "code",
      "source": [
        "print(\"Кількість тестових прикладів дорівнює\", test_labels.shape[0])"
      ],
      "metadata": {
        "colab": {
          "base_uri": "https://localhost:8080/"
        },
        "id": "oohJAITrnVLc",
        "outputId": "c8cc1c94-570a-447c-c12b-153a06d558f3"
      },
      "execution_count": 25,
      "outputs": [
        {
          "output_type": "stream",
          "name": "stdout",
          "text": [
            "Кількість тестових прикладів дорівнює 1276\n"
          ]
        }
      ]
    },
    {
      "cell_type": "markdown",
      "source": [
        "Побудова моделі згорткової нейронної мережі:"
      ],
      "metadata": {
        "id": "Uasvrtf7EFVu"
      }
    },
    {
      "cell_type": "code",
      "source": [
        "def construct_model():\n",
        "    \n",
        "    # створення моделі\n",
        "    model = Sequential()\n",
        "    # вхідний шар\n",
        "    model.add(Input(shape=(*IMAGE_SIZE, 3)))\n",
        "    # перший шар згортки\n",
        "    model.add(Conv2D(16, 3, activation='relu', padding='same'))\n",
        "    # другий шар згортки\n",
        "    model.add(Conv2D(16, 3, activation='relu', padding='same'))\n",
        "    # перший шар субдискретизації\n",
        "    model.add(MaxPool2D())\n",
        "    # третій шар згортки\n",
        "    model.add(Conv2D(32, 3, activation='relu', padding='same'))\n",
        "    # четвертий шар згортки\n",
        "    model.add(Conv2D(32, 3, activation='relu', padding='same'))\n",
        "    # перший шар нормалізації\n",
        "    model.add(BatchNormalization())\n",
        "    # другий шар субдискретизації\n",
        "    model.add(MaxPool2D())\n",
        "    # п'ятий шар згортки\n",
        "    model.add(Conv2D(64, 3, activation='relu', padding='same'))\n",
        "    # шостий шар згортки\n",
        "    model.add(Conv2D(64, 3, activation='relu', padding='same')) \n",
        "    # другий шар нормалізації\n",
        "    model.add(BatchNormalization())\n",
        "    # третій шар субдискретизації\n",
        "    model.add(MaxPool2D())\n",
        "    # сьомий шар згортки\n",
        "    model.add(Conv2D(128, 3, activation='relu', padding='same'))\n",
        "    # восьмий шар згортки\n",
        "    model.add(Conv2D(128, 3, activation='relu', padding='same'))\n",
        "    # третій шар нормалізації\n",
        "    model.add(BatchNormalization())\n",
        "    # четвертий шар субдискретизації\n",
        "    model.add(MaxPool2D())\n",
        "    # перший шар Dropout\n",
        "    model.add(Dropout(0.2))\n",
        "    # дев'ятий шар згортки\n",
        "    model.add(Conv2D(256, 3, activation='relu', padding='same'))\n",
        "    # десятий шар згортки\n",
        "    model.add(Conv2D(256, 3, activation='relu', padding='same'))\n",
        "    # четвертий шар нормалізації\n",
        "    model.add(BatchNormalization())\n",
        "    # п'ятий шар субдискретизації\n",
        "    model.add(MaxPool2D())\n",
        "    # другий шар Dropout\n",
        "    model.add(Dropout(0.2))\n",
        "    # шар Flatten\n",
        "    model.add(Flatten())\n",
        "    # вихідний шар\n",
        "    model.add(Dense(4, activation='softmax'))\n",
        "\n",
        "    return model"
      ],
      "metadata": {
        "id": "CHNggzFPUqNZ"
      },
      "execution_count": 26,
      "outputs": []
    },
    {
      "cell_type": "code",
      "source": [
        "model = construct_model()"
      ],
      "metadata": {
        "id": "gAfzyaSPq8UJ"
      },
      "execution_count": 27,
      "outputs": []
    },
    {
      "cell_type": "code",
      "source": [
        "# оптимізаційні параметри\n",
        "METRICS = [tf.keras.metrics.CategoricalAccuracy(name='accuracy')]\n",
        "\n",
        "model.compile(optimizer='adam',\n",
        "              loss=tf.losses.CategoricalCrossentropy(),\n",
        "              metrics=METRICS)"
      ],
      "metadata": {
        "id": "ioK8d01jEN8Q"
      },
      "execution_count": 28,
      "outputs": []
    },
    {
      "cell_type": "markdown",
      "source": [
        "Тренування моделі:"
      ],
      "metadata": {
        "id": "cQD-vCSLEQN4"
      }
    },
    {
      "cell_type": "code",
      "source": [
        "EPOCHS = 50\n",
        "\n",
        "history = model.fit(train_data, train_labels, epochs=EPOCHS, verbose=2)"
      ],
      "metadata": {
        "id": "o4Wc0iIkI-F9",
        "colab": {
          "base_uri": "https://localhost:8080/"
        },
        "outputId": "a4767735-4eb5-47cd-d4bc-0581d2952103"
      },
      "execution_count": 29,
      "outputs": [
        {
          "output_type": "stream",
          "name": "stdout",
          "text": [
            "Epoch 1/50\n",
            "361/361 - 29s - loss: 1.1776 - accuracy: 0.5488 - 29s/epoch - 79ms/step\n",
            "Epoch 2/50\n",
            "361/361 - 15s - loss: 0.6801 - accuracy: 0.6937 - 15s/epoch - 42ms/step\n",
            "Epoch 3/50\n",
            "361/361 - 15s - loss: 0.5249 - accuracy: 0.7647 - 15s/epoch - 43ms/step\n",
            "Epoch 4/50\n",
            "361/361 - 15s - loss: 0.4328 - accuracy: 0.8130 - 15s/epoch - 42ms/step\n",
            "Epoch 5/50\n",
            "361/361 - 15s - loss: 0.3167 - accuracy: 0.8632 - 15s/epoch - 42ms/step\n",
            "Epoch 6/50\n",
            "361/361 - 15s - loss: 0.3229 - accuracy: 0.8690 - 15s/epoch - 43ms/step\n",
            "Epoch 7/50\n",
            "361/361 - 15s - loss: 0.2232 - accuracy: 0.9122 - 15s/epoch - 42ms/step\n",
            "Epoch 8/50\n",
            "361/361 - 15s - loss: 0.1584 - accuracy: 0.9393 - 15s/epoch - 43ms/step\n",
            "Epoch 9/50\n",
            "361/361 - 15s - loss: 0.1341 - accuracy: 0.9488 - 15s/epoch - 43ms/step\n",
            "Epoch 10/50\n",
            "361/361 - 16s - loss: 0.1097 - accuracy: 0.9595 - 16s/epoch - 44ms/step\n",
            "Epoch 11/50\n",
            "361/361 - 16s - loss: 0.1078 - accuracy: 0.9603 - 16s/epoch - 43ms/step\n",
            "Epoch 12/50\n",
            "361/361 - 15s - loss: 0.0962 - accuracy: 0.9647 - 15s/epoch - 43ms/step\n",
            "Epoch 13/50\n",
            "361/361 - 15s - loss: 0.0693 - accuracy: 0.9723 - 15s/epoch - 43ms/step\n",
            "Epoch 14/50\n",
            "361/361 - 15s - loss: 0.0678 - accuracy: 0.9756 - 15s/epoch - 43ms/step\n",
            "Epoch 15/50\n",
            "361/361 - 15s - loss: 0.0716 - accuracy: 0.9742 - 15s/epoch - 42ms/step\n",
            "Epoch 16/50\n",
            "361/361 - 15s - loss: 0.0586 - accuracy: 0.9786 - 15s/epoch - 42ms/step\n",
            "Epoch 17/50\n",
            "361/361 - 15s - loss: 0.0645 - accuracy: 0.9777 - 15s/epoch - 42ms/step\n",
            "Epoch 18/50\n",
            "361/361 - 15s - loss: 0.0307 - accuracy: 0.9896 - 15s/epoch - 42ms/step\n",
            "Epoch 19/50\n",
            "361/361 - 15s - loss: 0.0614 - accuracy: 0.9786 - 15s/epoch - 42ms/step\n",
            "Epoch 20/50\n",
            "361/361 - 15s - loss: 0.0603 - accuracy: 0.9788 - 15s/epoch - 42ms/step\n",
            "Epoch 21/50\n",
            "361/361 - 15s - loss: 0.0386 - accuracy: 0.9863 - 15s/epoch - 42ms/step\n",
            "Epoch 22/50\n",
            "361/361 - 15s - loss: 0.0435 - accuracy: 0.9844 - 15s/epoch - 43ms/step\n",
            "Epoch 23/50\n",
            "361/361 - 15s - loss: 0.0322 - accuracy: 0.9902 - 15s/epoch - 42ms/step\n",
            "Epoch 24/50\n",
            "361/361 - 15s - loss: 0.0355 - accuracy: 0.9872 - 15s/epoch - 43ms/step\n",
            "Epoch 25/50\n",
            "361/361 - 15s - loss: 0.0332 - accuracy: 0.9890 - 15s/epoch - 43ms/step\n",
            "Epoch 26/50\n",
            "361/361 - 15s - loss: 0.0271 - accuracy: 0.9905 - 15s/epoch - 43ms/step\n",
            "Epoch 27/50\n",
            "361/361 - 15s - loss: 0.0348 - accuracy: 0.9874 - 15s/epoch - 43ms/step\n",
            "Epoch 28/50\n",
            "361/361 - 15s - loss: 0.0373 - accuracy: 0.9874 - 15s/epoch - 43ms/step\n",
            "Epoch 29/50\n",
            "361/361 - 15s - loss: 0.0178 - accuracy: 0.9939 - 15s/epoch - 42ms/step\n",
            "Epoch 30/50\n",
            "361/361 - 15s - loss: 0.0346 - accuracy: 0.9867 - 15s/epoch - 43ms/step\n",
            "Epoch 31/50\n",
            "361/361 - 15s - loss: 0.0670 - accuracy: 0.9786 - 15s/epoch - 42ms/step\n",
            "Epoch 32/50\n",
            "361/361 - 15s - loss: 0.0243 - accuracy: 0.9916 - 15s/epoch - 43ms/step\n",
            "Epoch 33/50\n",
            "361/361 - 15s - loss: 0.0197 - accuracy: 0.9936 - 15s/epoch - 43ms/step\n",
            "Epoch 34/50\n",
            "361/361 - 15s - loss: 0.0263 - accuracy: 0.9905 - 15s/epoch - 43ms/step\n",
            "Epoch 35/50\n",
            "361/361 - 15s - loss: 0.0181 - accuracy: 0.9937 - 15s/epoch - 43ms/step\n",
            "Epoch 36/50\n",
            "361/361 - 15s - loss: 0.0298 - accuracy: 0.9893 - 15s/epoch - 42ms/step\n",
            "Epoch 37/50\n",
            "361/361 - 15s - loss: 0.0253 - accuracy: 0.9927 - 15s/epoch - 42ms/step\n",
            "Epoch 38/50\n",
            "361/361 - 15s - loss: 0.0246 - accuracy: 0.9915 - 15s/epoch - 42ms/step\n",
            "Epoch 39/50\n",
            "361/361 - 15s - loss: 0.0262 - accuracy: 0.9915 - 15s/epoch - 42ms/step\n",
            "Epoch 40/50\n",
            "361/361 - 15s - loss: 0.0147 - accuracy: 0.9944 - 15s/epoch - 43ms/step\n",
            "Epoch 41/50\n",
            "361/361 - 15s - loss: 0.0170 - accuracy: 0.9938 - 15s/epoch - 42ms/step\n",
            "Epoch 42/50\n",
            "361/361 - 15s - loss: 0.0244 - accuracy: 0.9907 - 15s/epoch - 42ms/step\n",
            "Epoch 43/50\n",
            "361/361 - 15s - loss: 0.0177 - accuracy: 0.9938 - 15s/epoch - 43ms/step\n",
            "Epoch 44/50\n",
            "361/361 - 15s - loss: 0.0054 - accuracy: 0.9978 - 15s/epoch - 43ms/step\n",
            "Epoch 45/50\n",
            "361/361 - 15s - loss: 0.0285 - accuracy: 0.9907 - 15s/epoch - 42ms/step\n",
            "Epoch 46/50\n",
            "361/361 - 15s - loss: 0.0195 - accuracy: 0.9928 - 15s/epoch - 43ms/step\n",
            "Epoch 47/50\n",
            "361/361 - 15s - loss: 0.0170 - accuracy: 0.9944 - 15s/epoch - 43ms/step\n",
            "Epoch 48/50\n",
            "361/361 - 15s - loss: 0.0949 - accuracy: 0.9706 - 15s/epoch - 42ms/step\n",
            "Epoch 49/50\n",
            "361/361 - 15s - loss: 0.0075 - accuracy: 0.9977 - 15s/epoch - 43ms/step\n",
            "Epoch 50/50\n",
            "361/361 - 15s - loss: 0.0076 - accuracy: 0.9981 - 15s/epoch - 43ms/step\n"
          ]
        }
      ]
    },
    {
      "cell_type": "markdown",
      "source": [
        "Визначимо оцінку якості тренування моделі на тестових даних:"
      ],
      "metadata": {
        "id": "mKjTYPGgEU0S"
      }
    },
    {
      "cell_type": "code",
      "source": [
        "scores = model.evaluate(test_data, test_labels, verbose=0)"
      ],
      "metadata": {
        "id": "DAzsZvgpEXQr"
      },
      "execution_count": 30,
      "outputs": []
    },
    {
      "cell_type": "code",
      "source": [
        "print(\"Testing Accuracy: %.2f%%\"%(scores[1] * 100))"
      ],
      "metadata": {
        "colab": {
          "base_uri": "https://localhost:8080/"
        },
        "id": "5VD3sVNAEZT-",
        "outputId": "c9a0be55-7638-4ef5-f909-636cbccc0ad6"
      },
      "execution_count": 31,
      "outputs": [
        {
          "output_type": "stream",
          "name": "stdout",
          "text": [
            "Testing Accuracy: 88.95%\n"
          ]
        }
      ]
    },
    {
      "cell_type": "markdown",
      "source": [
        "Виведемо матрицю, що визначає співвідношення між реальним результатом для тестових даних та результатом розпізнавання зображень навченої моделі."
      ],
      "metadata": {
        "id": "tlKoA-F4rSHj"
      }
    },
    {
      "cell_type": "code",
      "source": [
        "pred_ls = np.argmax(model.predict(test_data), axis=1)\n",
        "test_ls = np.argmax(test_labels, axis=1)\n",
        "\n",
        "CLASSES = [ 'NonDemented',\n",
        "            'VeryMildDemented',\n",
        "            'MildDemented',\n",
        "            'ModerateDemented']\n",
        "\n",
        "\n",
        "plt.figure(figsize=(8, 6), facecolor='w', edgecolor='k')\n",
        "\n",
        "ax = seaborn.heatmap(confusion_matrix(test_ls, pred_ls), cmap='RdPu', annot=True, fmt='d', xticklabels=CLASSES, yticklabels=CLASSES)\n",
        "\n",
        "plt.title('Stages of Alzheimer`s')\n",
        "plt.xlabel('Prediction')\n",
        "plt.ylabel('Real')\n",
        "plt.show(ax)"
      ],
      "metadata": {
        "colab": {
          "base_uri": "https://localhost:8080/",
          "height": 404
        },
        "id": "4KA2BrE_riE1",
        "outputId": "a27cbfc3-e2a5-443f-dcb2-d70a08f6bfb1"
      },
      "execution_count": 32,
      "outputs": [
        {
          "output_type": "display_data",
          "data": {
            "image/png": "[encoded data removed]",
            "text/plain": [
              "<Figure size 576x432 with 2 Axes>"
            ]
          },
          "metadata": {}
        }
      ]
    },
    {
      "cell_type": "markdown",
      "source": [
        "Для доклінічної стадії (NonDemented):\n",
        "*   244 знімки було розпізнано правильно;\n",
        "*   75 змнімків було розпізнано неправильно, з них 18 віднесено до стадії помірної деменції (MildDemented), а 57 до стадії важкої деменції (ModerateDemented). "
      ],
      "metadata": {
        "id": "-JZzYwokafKw"
      }
    },
    {
      "cell_type": "markdown",
      "source": [
        "Для ранньої стадії (VeryMildDemented):\n",
        "*   313 знімків було розпізнано правильно;\n",
        "*   6 знімків було розпізнано неправильно, вони були віднесені до стадії важкої деменції (ModerateDemented). "
      ],
      "metadata": {
        "id": "1dwnkyLmbs09"
      }
    },
    {
      "cell_type": "markdown",
      "source": [
        "Для стадії помірної деменції (MildDemented):\n",
        "*   295 знімків було розпізнано правильно;\n",
        "*   24 знімки було розпізнано неправильно, з них 3 віднесено до доклінічної стадії (NonDemented), а 21 до стадії важкої деменції (ModerateDemented)."
      ],
      "metadata": {
        "id": "DlGAhYLub_PV"
      }
    },
    {
      "cell_type": "markdown",
      "source": [
        "Для стадії важкої деменції (ModerateDemented):\n",
        "*   283 знімки було розпізнано правильно;\n",
        "*   36 знімків було розпізнано неправильно, з них 4 віднесено до доклінічної стадії (NonDemented), 2 віднесено до ранньої стадії (VeryMildDemented), а 30 до стадії важкої деменції (ModerateDemented)."
      ],
      "metadata": {
        "id": "uPzTJXQ5cWKa"
      }
    },
    {
      "cell_type": "markdown",
      "source": [
        "**Список використаних джерел:**\n",
        "1.   https://towardsdatascience.com/tagged/alzheimers\n",
        "2.   https://towardsdatascience.com/alzheimer-diagnosis-with-deep-learning-model-implementation-5a0fd31f148f\n",
        "3.   https://towardsdatascience.com/a-comprehensive-guide-to-convolutional-neural-networks-the-eli5-way-3bd2b1164a53\n",
        "4.   https://towardsdatascience.com/understanding-cnn-convolutional-neural-network-69fd626ee7d4\n",
        "5.  https://www.kaggle.com/fatemehghanadi/alzheimer-4-classes \n",
        "\n"
      ],
      "metadata": {
        "id": "aKX8lVXOc-Xd"
      }
    }
  ]
}